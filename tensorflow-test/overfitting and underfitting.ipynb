{
 "cells": [
  {
   "cell_type": "markdown",
   "metadata": {},
   "source": [
    "The best sollution to overfitting is having more training data, then we can use techniques like regularization."
   ]
  },
  {
   "cell_type": "code",
   "execution_count": 1,
   "metadata": {},
   "outputs": [
    {
     "name": "stdout",
     "output_type": "stream",
     "text": [
      "1.10.0\n"
     ]
    }
   ],
   "source": [
    "import tensorflow as tf\n",
    "from tensorflow import keras\n",
    "\n",
    "import numpy as np\n",
    "import matplotlib.pyplot as plt\n",
    "\n",
    "print(tf.__version__)"
   ]
  },
  {
   "cell_type": "code",
   "execution_count": 2,
   "metadata": {},
   "outputs": [],
   "source": [
    "NUM_WORDS = 10000\n",
    "\n",
    "(train_data, train_labels), (test_data, test_labels) = keras.datasets.imdb.load_data(num_words=NUM_WORDS)\n",
    "\n",
    "def multi_hot_sequences(sequences, dimension):\n",
    "    # Create an all-zero matrix of shape (len(sequences), dimension)\n",
    "    results = np.zeros((len(sequences), dimension))\n",
    "    for i, word_indices in enumerate(sequences):\n",
    "        results[i, word_indices] = 1.0  # set specific indices of results[i] to 1s\n",
    "    return results\n",
    "\n",
    "\n",
    "train_data = multi_hot_sequences(train_data, dimension=NUM_WORDS)\n",
    "test_data = multi_hot_sequences(test_data, dimension=NUM_WORDS)"
   ]
  },
  {
   "cell_type": "code",
   "execution_count": 4,
   "metadata": {},
   "outputs": [
    {
     "data": {
      "text/plain": [
       "[<matplotlib.lines.Line2D at 0x7f63ed311d68>]"
      ]
     },
     "execution_count": 4,
     "metadata": {},
     "output_type": "execute_result"
    },
    {
     "data": {
      "image/png": "[encoded data removed]",
      "text/plain": [
       "<Figure size 432x288 with 1 Axes>"
      ]
     },
     "metadata": {
      "needs_background": "light"
     },
     "output_type": "display_data"
    }
   ],
   "source": [
    "plt.plot(train_data[0])\n"
   ]
  },
  {
   "cell_type": "code",
   "execution_count": 5,
   "metadata": {},
   "outputs": [
    {
     "name": "stdout",
     "output_type": "stream",
     "text": [
      "_________________________________________________________________\n",
      "Layer (type)                 Output Shape              Param #   \n",
      "=================================================================\n",
      "dense (Dense)                (None, 16)                160016    \n",
      "_________________________________________________________________\n",
      "dense_1 (Dense)              (None, 16)                272       \n",
      "_________________________________________________________________\n",
      "dense_2 (Dense)              (None, 1)                 17        \n",
      "=================================================================\n",
      "Total params: 160,305\n",
      "Trainable params: 160,305\n",
      "Non-trainable params: 0\n",
      "_________________________________________________________________\n"
     ]
    }
   ],
   "source": [
    "baseline_model = keras.Sequential([\n",
    "    # `input_shape` is only required here so that `.summary` works.\n",
    "    keras.layers.Dense(16, activation=tf.nn.relu, input_shape=(NUM_WORDS,)),\n",
    "    keras.layers.Dense(16, activation=tf.nn.relu),\n",
    "    keras.layers.Dense(1, activation=tf.nn.sigmoid)\n",
    "])\n",
    "\n",
    "baseline_model.compile(optimizer='adam',\n",
    "                       loss='binary_crossentropy',\n",
    "                       metrics=['accuracy', 'binary_crossentropy'])\n",
    "\n",
    "baseline_model.summary()"
   ]
  },
  {
   "cell_type": "code",
   "execution_count": 6,
   "metadata": {},
   "outputs": [
    {
     "name": "stdout",
     "output_type": "stream",
     "text": [
      "Train on 25000 samples, validate on 25000 samples\n",
      "Epoch 1/20\n",
      " - 3s - loss: 0.4573 - acc: 0.8288 - binary_crossentropy: 0.4573 - val_loss: 0.3214 - val_acc: 0.8806 - val_binary_crossentropy: 0.3214\n",
      "Epoch 2/20\n",
      " - 3s - loss: 0.2372 - acc: 0.9154 - binary_crossentropy: 0.2372 - val_loss: 0.2843 - val_acc: 0.8868 - val_binary_crossentropy: 0.2843\n",
      "Epoch 3/20\n",
      " - 3s - loss: 0.1775 - acc: 0.9389 - binary_crossentropy: 0.1775 - val_loss: 0.2905 - val_acc: 0.8844 - val_binary_crossentropy: 0.2905\n",
      "Epoch 4/20\n",
      " - 3s - loss: 0.1422 - acc: 0.9520 - binary_crossentropy: 0.1422 - val_loss: 0.3175 - val_acc: 0.8786 - val_binary_crossentropy: 0.3175\n",
      "Epoch 5/20\n",
      " - 3s - loss: 0.1178 - acc: 0.9616 - binary_crossentropy: 0.1178 - val_loss: 0.3431 - val_acc: 0.8744 - val_binary_crossentropy: 0.3431\n",
      "Epoch 6/20\n",
      " - 3s - loss: 0.0971 - acc: 0.9708 - binary_crossentropy: 0.0971 - val_loss: 0.3738 - val_acc: 0.8694 - val_binary_crossentropy: 0.3738\n",
      "Epoch 7/20\n",
      " - 3s - loss: 0.0804 - acc: 0.9774 - binary_crossentropy: 0.0804 - val_loss: 0.4242 - val_acc: 0.8620 - val_binary_crossentropy: 0.4242\n",
      "Epoch 8/20\n",
      " - 3s - loss: 0.0673 - acc: 0.9818 - binary_crossentropy: 0.0673 - val_loss: 0.4513 - val_acc: 0.8630 - val_binary_crossentropy: 0.4513\n",
      "Epoch 9/20\n",
      " - 3s - loss: 0.0552 - acc: 0.9871 - binary_crossentropy: 0.0552 - val_loss: 0.4895 - val_acc: 0.8600 - val_binary_crossentropy: 0.4895\n",
      "Epoch 10/20\n",
      " - 3s - loss: 0.0450 - acc: 0.9909 - binary_crossentropy: 0.0450 - val_loss: 0.5356 - val_acc: 0.8564 - val_binary_crossentropy: 0.5356\n",
      "Epoch 11/20\n",
      " - 3s - loss: 0.0373 - acc: 0.9928 - binary_crossentropy: 0.0373 - val_loss: 0.5764 - val_acc: 0.8565 - val_binary_crossentropy: 0.5764\n",
      "Epoch 12/20\n",
      " - 3s - loss: 0.0291 - acc: 0.9956 - binary_crossentropy: 0.0291 - val_loss: 0.6197 - val_acc: 0.8544 - val_binary_crossentropy: 0.6197\n",
      "Epoch 13/20\n",
      " - 3s - loss: 0.0229 - acc: 0.9968 - binary_crossentropy: 0.0229 - val_loss: 0.6583 - val_acc: 0.8536 - val_binary_crossentropy: 0.6583\n",
      "Epoch 14/20\n",
      " - 3s - loss: 0.0181 - acc: 0.9982 - binary_crossentropy: 0.0181 - val_loss: 0.6978 - val_acc: 0.8521 - val_binary_crossentropy: 0.6978\n",
      "Epoch 15/20\n",
      " - 3s - loss: 0.0141 - acc: 0.9991 - binary_crossentropy: 0.0141 - val_loss: 0.7417 - val_acc: 0.8518 - val_binary_crossentropy: 0.7417\n",
      "Epoch 16/20\n",
      " - 3s - loss: 0.0112 - acc: 0.9994 - binary_crossentropy: 0.0112 - val_loss: 0.7757 - val_acc: 0.8512 - val_binary_crossentropy: 0.7757\n",
      "Epoch 17/20\n",
      " - 3s - loss: 0.0089 - acc: 0.9998 - binary_crossentropy: 0.0089 - val_loss: 0.8112 - val_acc: 0.8503 - val_binary_crossentropy: 0.8112\n",
      "Epoch 18/20\n",
      " - 3s - loss: 0.0071 - acc: 0.9998 - binary_crossentropy: 0.0071 - val_loss: 0.8444 - val_acc: 0.8493 - val_binary_crossentropy: 0.8444\n",
      "Epoch 19/20\n",
      " - 3s - loss: 0.0057 - acc: 0.9998 - binary_crossentropy: 0.0057 - val_loss: 0.8726 - val_acc: 0.8501 - val_binary_crossentropy: 0.8726\n",
      "Epoch 20/20\n",
      " - 3s - loss: 0.0047 - acc: 0.9999 - binary_crossentropy: 0.0047 - val_loss: 0.9006 - val_acc: 0.8486 - val_binary_crossentropy: 0.9006\n"
     ]
    }
   ],
   "source": [
    "baseline_history = baseline_model.fit(train_data,\n",
    "                                      train_labels,\n",
    "                                      epochs=20,\n",
    "                                      batch_size=512,\n",
    "                                      validation_data=(test_data, test_labels),\n",
    "                                      verbose=2)"
   ]
  }
 ],
 "metadata": {
  "kernelspec": {
   "display_name": "Python 3",
   "language": "python",
   "name": "python3"
  },
  "language_info": {
   "codemirror_mode": {
    "name": "ipython",
    "version": 3
   },
   "file_extension": ".py",
   "mimetype": "text/x-python",
   "name": "python",
   "nbconvert_exporter": "python",
   "pygments_lexer": "ipython3",
   "version": "3.6.7"
  }
 },
 "nbformat": 4,
 "nbformat_minor": 2
}
