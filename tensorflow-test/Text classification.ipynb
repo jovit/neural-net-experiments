{
 "cells": [
  {
   "cell_type": "code",
   "execution_count": 1,
   "metadata": {},
   "outputs": [
    {
     "name": "stdout",
     "output_type": "stream",
     "text": [
      "1.10.0\n"
     ]
    }
   ],
   "source": [
    "import tensorflow as tf\n",
    "from tensorflow import keras\n",
    "\n",
    "import numpy as np\n",
    "\n",
    "print(tf.__version__)"
   ]
  },
  {
   "cell_type": "markdown",
   "metadata": {},
   "source": [
    "Importing imdb review dataset"
   ]
  },
  {
   "cell_type": "code",
   "execution_count": 2,
   "metadata": {},
   "outputs": [],
   "source": [
    "imdb = keras.datasets.imdb\n",
    "\n",
    "(train_data, train_labels), (test_data, test_labels) = imdb.load_data(num_words=10000)"
   ]
  },
  {
   "cell_type": "markdown",
   "metadata": {},
   "source": [
    "num_word=10000 keeps only the 10000 more common words, this keeps the dataset small"
   ]
  },
  {
   "cell_type": "code",
   "execution_count": 3,
   "metadata": {},
   "outputs": [
    {
     "name": "stdout",
     "output_type": "stream",
     "text": [
      "Training entries: 25000, labels: 25000\n"
     ]
    }
   ],
   "source": [
    "print(\"Training entries: {}, labels: {}\".format(len(train_data), len(train_labels)))"
   ]
  },
  {
   "cell_type": "markdown",
   "metadata": {},
   "source": [
    "The numbers are converted to integers, where each word represents a word in the dictionary"
   ]
  },
  {
   "cell_type": "code",
   "execution_count": 4,
   "metadata": {},
   "outputs": [
    {
     "name": "stdout",
     "output_type": "stream",
     "text": [
      "[1, 14, 22, 16, 43, 530, 973, 1622, 1385, 65, 458, 4468, 66, 3941, 4, 173, 36, 256, 5, 25, 100, 43, 838, 112, 50, 670, 2, 9, 35, 480, 284, 5, 150, 4, 172, 112, 167, 2, 336, 385, 39, 4, 172, 4536, 1111, 17, 546, 38, 13, 447, 4, 192, 50, 16, 6, 147, 2025, 19, 14, 22, 4, 1920, 4613, 469, 4, 22, 71, 87, 12, 16, 43, 530, 38, 76, 15, 13, 1247, 4, 22, 17, 515, 17, 12, 16, 626, 18, 2, 5, 62, 386, 12, 8, 316, 8, 106, 5, 4, 2223, 5244, 16, 480, 66, 3785, 33, 4, 130, 12, 16, 38, 619, 5, 25, 124, 51, 36, 135, 48, 25, 1415, 33, 6, 22, 12, 215, 28, 77, 52, 5, 14, 407, 16, 82, 2, 8, 4, 107, 117, 5952, 15, 256, 4, 2, 7, 3766, 5, 723, 36, 71, 43, 530, 476, 26, 400, 317, 46, 7, 4, 2, 1029, 13, 104, 88, 4, 381, 15, 297, 98, 32, 2071, 56, 26, 141, 6, 194, 7486, 18, 4, 226, 22, 21, 134, 476, 26, 480, 5, 144, 30, 5535, 18, 51, 36, 28, 224, 92, 25, 104, 4, 226, 65, 16, 38, 1334, 88, 12, 16, 283, 5, 16, 4472, 113, 103, 32, 15, 16, 5345, 19, 178, 32]\n"
     ]
    }
   ],
   "source": [
    "print(train_data[0])"
   ]
  },
  {
   "cell_type": "markdown",
   "metadata": {},
   "source": [
    "### converting the numbers back into words"
   ]
  },
  {
   "cell_type": "code",
   "execution_count": 5,
   "metadata": {},
   "outputs": [],
   "source": [
    "# A dictionary mapping words to an integer index\n",
    "word_index = imdb.get_word_index()\n",
    "\n",
    "# The first indices are reserved\n",
    "word_index = {k:(v+3) for k,v in word_index.items()}\n",
    "word_index[\"<PAD>\"] = 0\n",
    "word_index[\"<START>\"] = 1\n",
    "word_index[\"<UNK>\"] = 2  # unknown\n",
    "word_index[\"<UNUSED>\"] = 3\n",
    "\n",
    "reverse_word_index = dict([(value, key) for (key, value) in word_index.items()])\n",
    "\n",
    "def decode_review(text):\n",
    "    return ' '.join([reverse_word_index.get(i, '?') for i in text])"
   ]
  },
  {
   "cell_type": "code",
   "execution_count": 6,
   "metadata": {},
   "outputs": [
    {
     "data": {
      "text/plain": [
       "\"<START> this film was just brilliant casting location scenery story direction everyone's really suited the part they played and you could just imagine being there robert <UNK> is an amazing actor and now the same being director <UNK> father came from the same scottish island as myself so i loved the fact there was a real connection with this film the witty remarks throughout the film were great it was just brilliant so much that i bought the film as soon as it was released for <UNK> and would recommend it to everyone to watch and the fly fishing was amazing really cried at the end it was so sad and you know what they say if you cry at a film it must have been good and this definitely was also <UNK> to the two little boy's that played the <UNK> of norman and paul they were just brilliant children are often left out of the <UNK> list i think because the stars that play them all grown up are such a big profile for the whole film but these children are amazing and should be praised for what they have done don't you think the whole story was so lovely because it was true and was someone's life after all that was shared with us all\""
      ]
     },
     "execution_count": 6,
     "metadata": {},
     "output_type": "execute_result"
    }
   ],
   "source": [
    "decode_review(train_data[0])"
   ]
  },
  {
   "cell_type": "markdown",
   "metadata": {},
   "source": [
    "### preparing the data\n",
    "We need to convert the data to one hot arrays"
   ]
  },
  {
   "cell_type": "markdown",
   "metadata": {},
   "source": [
    "We use pad sequence to make all reviews the same length padded in the end."
   ]
  },
  {
   "cell_type": "code",
   "execution_count": 7,
   "metadata": {},
   "outputs": [],
   "source": [
    "train_data = keras.preprocessing.sequence.pad_sequences(train_data,\n",
    "                                                        value=word_index[\"<PAD>\"],\n",
    "                                                        padding='post',\n",
    "                                                        maxlen=256)\n",
    "\n",
    "test_data = keras.preprocessing.sequence.pad_sequences(test_data,\n",
    "                                                       value=word_index[\"<PAD>\"],\n",
    "                                                       padding='post',\n",
    "                                                       maxlen=256)"
   ]
  },
  {
   "cell_type": "code",
   "execution_count": 8,
   "metadata": {},
   "outputs": [
    {
     "data": {
      "text/plain": [
       "(256, 256)"
      ]
     },
     "execution_count": 8,
     "metadata": {},
     "output_type": "execute_result"
    }
   ],
   "source": [
    "len(train_data[0]), len(train_data[1])"
   ]
  },
  {
   "cell_type": "code",
   "execution_count": 9,
   "metadata": {},
   "outputs": [
    {
     "name": "stdout",
     "output_type": "stream",
     "text": [
      "[   1   14   22   16   43  530  973 1622 1385   65  458 4468   66 3941\n",
      "    4  173   36  256    5   25  100   43  838  112   50  670    2    9\n",
      "   35  480  284    5  150    4  172  112  167    2  336  385   39    4\n",
      "  172 4536 1111   17  546   38   13  447    4  192   50   16    6  147\n",
      " 2025   19   14   22    4 1920 4613  469    4   22   71   87   12   16\n",
      "   43  530   38   76   15   13 1247    4   22   17  515   17   12   16\n",
      "  626   18    2    5   62  386   12    8  316    8  106    5    4 2223\n",
      " 5244   16  480   66 3785   33    4  130   12   16   38  619    5   25\n",
      "  124   51   36  135   48   25 1415   33    6   22   12  215   28   77\n",
      "   52    5   14  407   16   82    2    8    4  107  117 5952   15  256\n",
      "    4    2    7 3766    5  723   36   71   43  530  476   26  400  317\n",
      "   46    7    4    2 1029   13  104   88    4  381   15  297   98   32\n",
      " 2071   56   26  141    6  194 7486   18    4  226   22   21  134  476\n",
      "   26  480    5  144   30 5535   18   51   36   28  224   92   25  104\n",
      "    4  226   65   16   38 1334   88   12   16  283    5   16 4472  113\n",
      "  103   32   15   16 5345   19  178   32    0    0    0    0    0    0\n",
      "    0    0    0    0    0    0    0    0    0    0    0    0    0    0\n",
      "    0    0    0    0    0    0    0    0    0    0    0    0    0    0\n",
      "    0    0    0    0]\n"
     ]
    }
   ],
   "source": [
    "print(train_data[0])"
   ]
  },
  {
   "cell_type": "code",
   "execution_count": 10,
   "metadata": {},
   "outputs": [
    {
     "name": "stdout",
     "output_type": "stream",
     "text": [
      "_________________________________________________________________\n",
      "Layer (type)                 Output Shape              Param #   \n",
      "=================================================================\n",
      "embedding (Embedding)        (None, None, 16)          160000    \n",
      "_________________________________________________________________\n",
      "global_average_pooling1d (Gl (None, 16)                0         \n",
      "_________________________________________________________________\n",
      "dense (Dense)                (None, 16)                272       \n",
      "_________________________________________________________________\n",
      "dense_1 (Dense)              (None, 1)                 17        \n",
      "=================================================================\n",
      "Total params: 160,289\n",
      "Trainable params: 160,289\n",
      "Non-trainable params: 0\n",
      "_________________________________________________________________\n"
     ]
    }
   ],
   "source": [
    "# input shape is the vocabulary count used for the movie reviews (10,000 words)\n",
    "vocab_size = 10000\n",
    "\n",
    "model = keras.Sequential()\n",
    "model.add(keras.layers.Embedding(vocab_size, 16))\n",
    "model.add(keras.layers.GlobalAveragePooling1D())\n",
    "model.add(keras.layers.Dense(16, activation=tf.nn.relu))\n",
    "model.add(keras.layers.Dense(1, activation=tf.nn.sigmoid))\n",
    "\n",
    "model.summary()"
   ]
  },
  {
   "cell_type": "markdown",
   "metadata": {},
   "source": [
    "The layers are stacked sequentially to build the classifier:\n",
    "\n",
    "1. The first layer is an Embedding layer. This layer takes the integer-encoded vocabulary and looks up the embedding vector for each word-index. These vectors are learned as the model trains. The vectors add a dimension to the output array. The resulting dimensions are: (batch, sequence, embedding).\n",
    "2. Next, a GlobalAveragePooling1D layer returns a fixed-length output vector for each example by averaging over the sequence dimension. This allows the model to handle input of variable length, in the simplest way possible.\n",
    "3. This fixed-length output vector is piped through a fully-connected (Dense) layer with 16 hidden units.\n",
    "4. The last layer is densely connected with a single output node. Using the sigmoid activation function, this value is a float between 0 and 1, representing a probability, or confidence level.\n"
   ]
  },
  {
   "cell_type": "markdown",
   "metadata": {},
   "source": [
    "### loss function\n",
    "we'll use the binary_crossentropy loss function."
   ]
  },
  {
   "cell_type": "code",
   "execution_count": 11,
   "metadata": {},
   "outputs": [],
   "source": [
    "model.compile(optimizer='adam',\n",
    "              loss='binary_crossentropy',\n",
    "              metrics=['accuracy'])"
   ]
  },
  {
   "cell_type": "code",
   "execution_count": 12,
   "metadata": {},
   "outputs": [],
   "source": [
    "x_val = train_data[:10000]\n",
    "partial_x_train = train_data[10000:]\n",
    "\n",
    "y_val = train_labels[:10000]\n",
    "partial_y_train = train_labels[10000:]"
   ]
  },
  {
   "cell_type": "code",
   "execution_count": 13,
   "metadata": {},
   "outputs": [
    {
     "name": "stderr",
     "output_type": "stream",
     "text": [
      "/home/joao/anaconda3/envs/tensor/lib/python3.6/site-packages/tensorflow/python/ops/gradients_impl.py:108: UserWarning: Converting sparse IndexedSlices to a dense Tensor of unknown shape. This may consume a large amount of memory.\n",
      "  \"Converting sparse IndexedSlices to a dense Tensor of unknown shape. \"\n"
     ]
    },
    {
     "name": "stdout",
     "output_type": "stream",
     "text": [
      "Train on 15000 samples, validate on 10000 samples\n",
      "Epoch 1/40\n",
      "15000/15000 [==============================] - 1s 89us/step - loss: 0.6926 - acc: 0.5129 - val_loss: 0.6920 - val_acc: 0.5266\n",
      "Epoch 2/40\n",
      "15000/15000 [==============================] - 1s 50us/step - loss: 0.6911 - acc: 0.5373 - val_loss: 0.6903 - val_acc: 0.5527\n",
      "Epoch 3/40\n",
      "15000/15000 [==============================] - 1s 53us/step - loss: 0.6892 - acc: 0.5730 - val_loss: 0.6888 - val_acc: 0.5529\n",
      "Epoch 4/40\n",
      "15000/15000 [==============================] - 1s 51us/step - loss: 0.6871 - acc: 0.6158 - val_loss: 0.6868 - val_acc: 0.5547\n",
      "Epoch 5/40\n",
      "15000/15000 [==============================] - 1s 53us/step - loss: 0.6844 - acc: 0.6085 - val_loss: 0.6836 - val_acc: 0.6733\n",
      "Epoch 6/40\n",
      "15000/15000 [==============================] - 1s 56us/step - loss: 0.6810 - acc: 0.6827 - val_loss: 0.6800 - val_acc: 0.6920\n",
      "Epoch 7/40\n",
      "15000/15000 [==============================] - 1s 64us/step - loss: 0.6763 - acc: 0.7002 - val_loss: 0.6754 - val_acc: 0.6786\n",
      "Epoch 8/40\n",
      "15000/15000 [==============================] - 1s 58us/step - loss: 0.6697 - acc: 0.7133 - val_loss: 0.6680 - val_acc: 0.6991\n",
      "Epoch 9/40\n",
      "15000/15000 [==============================] - 1s 61us/step - loss: 0.6596 - acc: 0.7282 - val_loss: 0.6564 - val_acc: 0.7232\n",
      "Epoch 10/40\n",
      "15000/15000 [==============================] - 1s 55us/step - loss: 0.6447 - acc: 0.7453 - val_loss: 0.6401 - val_acc: 0.7387\n",
      "Epoch 11/40\n",
      "15000/15000 [==============================] - 1s 55us/step - loss: 0.6251 - acc: 0.7425 - val_loss: 0.6207 - val_acc: 0.7433\n",
      "Epoch 12/40\n",
      "15000/15000 [==============================] - 1s 50us/step - loss: 0.6005 - acc: 0.7638 - val_loss: 0.5956 - val_acc: 0.7598\n",
      "Epoch 13/40\n",
      "15000/15000 [==============================] - 1s 49us/step - loss: 0.5719 - acc: 0.7802 - val_loss: 0.5695 - val_acc: 0.7753\n",
      "Epoch 14/40\n",
      "15000/15000 [==============================] - 1s 50us/step - loss: 0.5419 - acc: 0.7909 - val_loss: 0.5413 - val_acc: 0.7871\n",
      "Epoch 15/40\n",
      "15000/15000 [==============================] - 1s 51us/step - loss: 0.5109 - acc: 0.8073 - val_loss: 0.5130 - val_acc: 0.7977\n",
      "Epoch 16/40\n",
      "15000/15000 [==============================] - 1s 50us/step - loss: 0.4811 - acc: 0.8197 - val_loss: 0.4865 - val_acc: 0.8106\n",
      "Epoch 17/40\n",
      "15000/15000 [==============================] - 1s 51us/step - loss: 0.4515 - acc: 0.8359 - val_loss: 0.4619 - val_acc: 0.8245\n",
      "Epoch 18/40\n",
      "15000/15000 [==============================] - 1s 54us/step - loss: 0.4246 - acc: 0.8486 - val_loss: 0.4386 - val_acc: 0.8323\n",
      "Epoch 19/40\n",
      "15000/15000 [==============================] - 1s 57us/step - loss: 0.4001 - acc: 0.8575 - val_loss: 0.4182 - val_acc: 0.8393\n",
      "Epoch 20/40\n",
      "15000/15000 [==============================] - 1s 66us/step - loss: 0.3781 - acc: 0.8671 - val_loss: 0.4003 - val_acc: 0.8458\n",
      "Epoch 21/40\n",
      "15000/15000 [==============================] - 1s 52us/step - loss: 0.3585 - acc: 0.8734 - val_loss: 0.3849 - val_acc: 0.8518\n",
      "Epoch 22/40\n",
      "15000/15000 [==============================] - 1s 53us/step - loss: 0.3412 - acc: 0.8791 - val_loss: 0.3718 - val_acc: 0.8556\n",
      "Epoch 23/40\n",
      "15000/15000 [==============================] - 1s 54us/step - loss: 0.3262 - acc: 0.8847 - val_loss: 0.3609 - val_acc: 0.8600\n",
      "Epoch 24/40\n",
      "15000/15000 [==============================] - 1s 52us/step - loss: 0.3124 - acc: 0.8895 - val_loss: 0.3510 - val_acc: 0.8638\n",
      "Epoch 25/40\n",
      "15000/15000 [==============================] - 1s 52us/step - loss: 0.3004 - acc: 0.8944 - val_loss: 0.3427 - val_acc: 0.8666\n",
      "Epoch 26/40\n",
      "15000/15000 [==============================] - 1s 53us/step - loss: 0.2893 - acc: 0.8966 - val_loss: 0.3356 - val_acc: 0.8684\n",
      "Epoch 27/40\n",
      "15000/15000 [==============================] - 1s 52us/step - loss: 0.2796 - acc: 0.8991 - val_loss: 0.3294 - val_acc: 0.8702\n",
      "Epoch 28/40\n",
      "15000/15000 [==============================] - 1s 54us/step - loss: 0.2701 - acc: 0.9037 - val_loss: 0.3235 - val_acc: 0.8715\n",
      "Epoch 29/40\n",
      "15000/15000 [==============================] - 1s 51us/step - loss: 0.2617 - acc: 0.9069 - val_loss: 0.3190 - val_acc: 0.8723\n",
      "Epoch 30/40\n",
      "15000/15000 [==============================] - 1s 50us/step - loss: 0.2546 - acc: 0.9075 - val_loss: 0.3145 - val_acc: 0.8745\n",
      "Epoch 31/40\n",
      "15000/15000 [==============================] - 1s 50us/step - loss: 0.2463 - acc: 0.9116 - val_loss: 0.3109 - val_acc: 0.8752\n",
      "Epoch 32/40\n",
      "15000/15000 [==============================] - 1s 49us/step - loss: 0.2399 - acc: 0.9135 - val_loss: 0.3076 - val_acc: 0.8775\n",
      "Epoch 33/40\n",
      "15000/15000 [==============================] - 1s 51us/step - loss: 0.2327 - acc: 0.9171 - val_loss: 0.3047 - val_acc: 0.8789\n",
      "Epoch 34/40\n",
      "15000/15000 [==============================] - 1s 50us/step - loss: 0.2266 - acc: 0.9199 - val_loss: 0.3022 - val_acc: 0.8796\n",
      "Epoch 35/40\n",
      "15000/15000 [==============================] - 1s 48us/step - loss: 0.2211 - acc: 0.9205 - val_loss: 0.2996 - val_acc: 0.8798\n",
      "Epoch 36/40\n",
      "15000/15000 [==============================] - 1s 55us/step - loss: 0.2149 - acc: 0.9233 - val_loss: 0.2977 - val_acc: 0.8803\n",
      "Epoch 37/40\n",
      "15000/15000 [==============================] - 1s 55us/step - loss: 0.2096 - acc: 0.9265 - val_loss: 0.2961 - val_acc: 0.8815\n",
      "Epoch 38/40\n",
      "15000/15000 [==============================] - 1s 51us/step - loss: 0.2045 - acc: 0.9267 - val_loss: 0.2940 - val_acc: 0.8819\n",
      "Epoch 39/40\n",
      "15000/15000 [==============================] - 1s 49us/step - loss: 0.1991 - acc: 0.9304 - val_loss: 0.2926 - val_acc: 0.8829\n",
      "Epoch 40/40\n",
      "15000/15000 [==============================] - 1s 51us/step - loss: 0.1944 - acc: 0.9311 - val_loss: 0.2913 - val_acc: 0.8831\n"
     ]
    }
   ],
   "source": [
    "history = model.fit(partial_x_train,\n",
    "                    partial_y_train,\n",
    "                    epochs=40,\n",
    "                    batch_size=512,\n",
    "                    validation_data=(x_val, y_val),\n",
    "                    verbose=1)\n"
   ]
  },
  {
   "cell_type": "markdown",
   "metadata": {},
   "source": [
    "Now we'll evaluate the model"
   ]
  },
  {
   "cell_type": "code",
   "execution_count": 14,
   "metadata": {},
   "outputs": [
    {
     "name": "stdout",
     "output_type": "stream",
     "text": [
      "25000/25000 [==============================] - 1s 24us/step\n",
      "[0.3072717204666138, 0.87312]\n"
     ]
    }
   ],
   "source": [
    "results = model.evaluate(test_data, test_labels)\n",
    "\n",
    "print(results)"
   ]
  },
  {
   "cell_type": "markdown",
   "metadata": {},
   "source": [
    "Making a graph of accuracy loss"
   ]
  },
  {
   "cell_type": "code",
   "execution_count": 15,
   "metadata": {},
   "outputs": [
    {
     "data": {
      "text/plain": [
       "dict_keys(['val_loss', 'val_acc', 'loss', 'acc'])"
      ]
     },
     "execution_count": 15,
     "metadata": {},
     "output_type": "execute_result"
    }
   ],
   "source": [
    "history_dict = history.history\n",
    "history_dict.keys()"
   ]
  },
  {
   "cell_type": "code",
   "execution_count": 17,
   "metadata": {},
   "outputs": [
    {
     "data": {
      "image/png": "[encoded data removed]",
      "text/plain": [
       "<Figure size 432x288 with 1 Axes>"
      ]
     },
     "metadata": {
      "needs_background": "light"
     },
     "output_type": "display_data"
    }
   ],
   "source": [
    "%matplotlib inline\n",
    "\n",
    "import matplotlib.pyplot as plt\n",
    "\n",
    "acc = history_dict['acc']\n",
    "val_acc = history_dict['val_acc']\n",
    "loss = history_dict['loss']\n",
    "val_loss = history_dict['val_loss']\n",
    "\n",
    "epochs = range(1, len(acc) + 1)\n",
    "\n",
    "# \"bo\" is for \"blue dot\"\n",
    "plt.plot(epochs, loss, 'bo', label='Training loss')\n",
    "# b is for \"solid blue line\"\n",
    "plt.plot(epochs, val_loss, 'b', label='Validation loss')\n",
    "plt.title('Training and validation loss')\n",
    "plt.xlabel('Epochs')\n",
    "plt.ylabel('Loss')\n",
    "plt.legend()\n",
    "\n",
    "plt.show()"
   ]
  },
  {
   "cell_type": "code",
   "execution_count": 18,
   "metadata": {},
   "outputs": [
    {
     "data": {
      "image/png": "[encoded data removed]",
      "text/plain": [
       "<Figure size 432x288 with 1 Axes>"
      ]
     },
     "metadata": {
      "needs_background": "light"
     },
     "output_type": "display_data"
    }
   ],
   "source": [
    "plt.clf()   # clear figure\n",
    "\n",
    "plt.plot(epochs, acc, 'bo', label='Training acc')\n",
    "plt.plot(epochs, val_acc, 'b', label='Validation acc')\n",
    "plt.title('Training and validation accuracy')\n",
    "plt.xlabel('Epochs')\n",
    "plt.ylabel('Accuracy')\n",
    "plt.legend()\n",
    "\n",
    "plt.show()"
   ]
  },
  {
   "cell_type": "code",
   "execution_count": null,
   "metadata": {},
   "outputs": [],
   "source": []
  }
 ],
 "metadata": {
  "kernelspec": {
   "display_name": "Python 3",
   "language": "python",
   "name": "python3"
  },
  "language_info": {
   "codemirror_mode": {
    "name": "ipython",
    "version": 3
   },
   "file_extension": ".py",
   "mimetype": "text/x-python",
   "name": "python",
   "nbconvert_exporter": "python",
   "pygments_lexer": "ipython3",
   "version": "3.6.7"
  }
 },
 "nbformat": 4,
 "nbformat_minor": 2
}
